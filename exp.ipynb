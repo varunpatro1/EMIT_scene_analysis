{
 "cells": [
  {
   "cell_type": "code",
   "execution_count": 9,
   "id": "e479ae19-c23a-43df-84a8-7e248328286e",
   "metadata": {},
   "outputs": [],
   "source": [
    "import numpy as np\n",
    "import pickle\n",
    "import pandas as pd"
   ]
  },
  {
   "cell_type": "code",
   "execution_count": 55,
   "id": "6e732710-f944-49b5-a5c8-02c7e703ede2",
   "metadata": {},
   "outputs": [
    {
     "name": "stdout",
     "output_type": "stream",
     "text": [
      "num samples to build: 1000\n"
     ]
    }
   ],
   "source": [
    "\n",
    "np.random.seed(13)\n",
    "\n",
    "df = pd.read_pickle('../emit_data')\n",
    "\n",
    "\n",
    "\n",
    "wv = np.random.rand(10000) * 5\n",
    "elev = np.random.rand(10000) * 6\n",
    "sza = np.random.rand(10000) * 60\n",
    "\n",
    "\n",
    "bins = 11\n",
    "# building intervals\n",
    "wv_range = np.linspace(np.min(wv),np.max(wv), bins)\n",
    "e_range = np.linspace(np.min(e),np.max(e), bins)\n",
    "sza_range = np.linspace(np.min(sza),np.max(sza), bins)\n",
    "\n",
    "\n",
    "samples_per_space = 1\n",
    "print(f'num samples to build: {(bins-1)**3*samples_per_space}')\n",
    "\n",
    "sample_set = []\n",
    "for _w in range(len(wv_range) - 1):\n",
    "    for _e in range(len(e_range) - 1):\n",
    "        for _sza in range(len(sza_range) - 1):\n",
    "            subset = (wv > wv_range[_w]) & (wv <= wv_range[_w + 1]) & (e > e_range[_e]) & (e <= e_range[_e + 1]) & (sza > sza_range[_sza]) & (sza <= sza_range[_sza + 1])\n",
    "            perm = np.random.permutation(np.sum(subset))\n",
    "\n",
    "            samples = np.where(subset)[0][perm[:samples_per_space]]\n",
    "            sample_set.extend(samples.tolist())"
   ]
  },
  {
   "cell_type": "code",
   "execution_count": 57,
   "id": "431a58a1-45f6-4006-a839-7a48ac4f9760",
   "metadata": {},
   "outputs": [
    {
     "data": {
      "text/plain": [
       "list"
      ]
     },
     "execution_count": 57,
     "metadata": {},
     "output_type": "execute_result"
    }
   ],
   "source": [
    "type(sample_set)"
   ]
  },
  {
   "cell_type": "code",
   "execution_count": 50,
   "id": "1ec49946-c59b-4a51-91d8-938c390d3867",
   "metadata": {},
   "outputs": [],
   "source": [
    "wv = np.arange(10)\n",
    "indices = (wv > 6)"
   ]
  },
  {
   "cell_type": "code",
   "execution_count": 51,
   "id": "8a6fe9d0-71fe-4933-9598-8fc46a0c292c",
   "metadata": {},
   "outputs": [
    {
     "data": {
      "text/plain": [
       "array([False, False, False, False, False, False, False,  True,  True,\n",
       "        True])"
      ]
     },
     "execution_count": 51,
     "metadata": {},
     "output_type": "execute_result"
    }
   ],
   "source": [
    "indices"
   ]
  },
  {
   "cell_type": "code",
   "execution_count": 52,
   "id": "189099ca-630b-4a89-bf24-f6fa9ad9b582",
   "metadata": {},
   "outputs": [
    {
     "data": {
      "text/plain": [
       "3"
      ]
     },
     "execution_count": 52,
     "metadata": {},
     "output_type": "execute_result"
    }
   ],
   "source": [
    "np.sum(indices)"
   ]
  },
  {
   "cell_type": "code",
   "execution_count": 53,
   "id": "8848328b-3c28-42b7-ab64-7ec47fc9e7e1",
   "metadata": {},
   "outputs": [
    {
     "data": {
      "text/plain": [
       "array([1, 2, 0])"
      ]
     },
     "execution_count": 53,
     "metadata": {},
     "output_type": "execute_result"
    }
   ],
   "source": [
    "p = np.random.permutation(np.sum(indices))\n",
    "p"
   ]
  },
  {
   "cell_type": "code",
   "execution_count": 54,
   "id": "ead43179-0c16-48bb-b5af-4c6f7d302e47",
   "metadata": {},
   "outputs": [
    {
     "data": {
      "text/plain": [
       "array([8], dtype=int64)"
      ]
     },
     "execution_count": 54,
     "metadata": {},
     "output_type": "execute_result"
    }
   ],
   "source": [
    "samp = np.where(indices)[0][p[:1]]\n",
    "samp"
   ]
  },
  {
   "cell_type": "code",
   "execution_count": null,
   "id": "580d7e48-7649-4b35-a1a6-c7d4d270b91e",
   "metadata": {},
   "outputs": [],
   "source": []
  },
  {
   "cell_type": "code",
   "execution_count": 14,
   "id": "607f34f7-fee9-40a5-bc5c-61d61e80254e",
   "metadata": {},
   "outputs": [
    {
     "name": "stdout",
     "output_type": "stream",
     "text": [
      "num samples to build: 729\n",
      "subset:  10000\n",
      "perm: [12 19 13 23  3  5  4 22 17 16  9  7 18 10  6 11 14 15 21  8  2  1  0 20]\n",
      "samples:  [5649]\n",
      "sample_set:  [5649]\n",
      "subset:  10000\n",
      "perm: [11  6  1  0 14  4  9  3  8  2 15 10 16  7 12  5 13]\n",
      "samples:  [5970]\n",
      "sample_set:  [5649, 5970]\n",
      "subset:  10000\n",
      "perm: [ 6  0  3  2  7  8  1  9  5 10  4]\n",
      "samples:  [6862]\n",
      "sample_set:  [5649, 5970, 6862]\n",
      "subset:  10000\n",
      "perm: [ 2 11  4  1 15 13  5 10 12  0  9  3  8  6  7 16 14]\n",
      "samples:  [2060]\n",
      "sample_set:  [5649, 5970, 6862, 2060]\n",
      "subset:  10000\n",
      "perm: [12  8  3 11 15  4  0 10  9  2 14  7 13  1  6  5]\n",
      "samples:  [7579]\n",
      "sample_set:  [5649, 5970, 6862, 2060, 7579]\n",
      "subset:  10000\n",
      "perm: [ 0  4  3 10 13 14 12 18 17  6 16  9  2  1  8  5  7 15 11 19]\n",
      "samples:  [371]\n",
      "sample_set:  [5649, 5970, 6862, 2060, 7579, 371]\n",
      "subset:  10000\n",
      "perm: [4 3 6 1 2 5 0 7]\n",
      "samples:  [6596]\n",
      "sample_set:  [5649, 5970, 6862, 2060, 7579, 371, 6596]\n",
      "subset:  10000\n",
      "perm: [ 8  2 12  6 14  7 10  3  4  9 11 13  1  0  5]\n",
      "samples:  [4502]\n",
      "sample_set:  [5649, 5970, 6862, 2060, 7579, 371, 6596, 4502]\n"
     ]
    }
   ],
   "source": [
    "\n",
    "np.random.seed(13)\n",
    "\n",
    "df = pd.read_pickle('../emit_data')\n",
    "\n",
    "wv = np.random.rand(10000) * 5\n",
    "elev = np.random.rand(10000) * 6\n",
    "sza = np.random.rand(10000) * 60\n",
    "\n",
    "\n",
    "bins = 10\n",
    "# building intervals\n",
    "wv_range = np.linspace(np.min(wv),np.max(wv), bins)\n",
    "e_range = np.linspace(np.min(e),np.max(e), bins)\n",
    "sza_range = np.linspace(np.min(sza),np.max(sza), bins)\n",
    "\n",
    "\n",
    "samples_per_space = 1\n",
    "print(f'num samples to build: {(bins-1)**3*samples_per_space}')\n",
    "\n",
    "sample_set = []\n",
    "for _w in range(2):\n",
    "    for _e in range(2):\n",
    "        for _sza in range(2):\n",
    "            subset = (wv > wv_range[_w]) & (wv <= wv_range[_w + 1]) & (e > e_range[_e]) & (e <= e_range[_e + 1]) & (sza > sza_range[_sza]) & (sza <= sza_range[_sza + 1])\n",
    "            print('subset: ', len(subset))\n",
    "            perm = np.random.permutation(np.sum(subset))\n",
    "            print('perm:', perm)\n",
    "\n",
    "            samples = np.where(subset)[0][perm[:samples_per_space]]\n",
    "            print('samples: ', samples)\n",
    "            sample_set.extend(samples.tolist())\n",
    "            print('sample_set: ', sample_set)"
   ]
  },
  {
   "cell_type": "code",
   "execution_count": 66,
   "id": "c2900d4b-fb89-4c06-941a-85969f00e6c1",
   "metadata": {},
   "outputs": [
    {
     "name": "stdout",
     "output_type": "stream",
     "text": [
      "num samples to build: 1521\n"
     ]
    }
   ],
   "source": [
    "np.random.seed(13)\n",
    "    \n",
    "wv = df['wv range']\n",
    "sza = df['zen']\n",
    "    \n",
    "bins = 40\n",
    "# building intervals\n",
    "wv_range = np.linspace(np.min(wv),np.max(wv), bins)\n",
    "sza_range = np.linspace(np.min(sza),np.max(sza), bins)\n",
    "    \n",
    "    \n",
    "samples_per_space = 1\n",
    "print(f'num samples to build: {(bins-1)**2*samples_per_space}')\n",
    "    \n",
    "sample_set = []\n",
    "for _w in range(len(wv_range) - 1):\n",
    "    for _sza in range(len(sza_range) - 1):\n",
    "        subset = (wv > wv_range[_w]) & (wv <= wv_range[_w + 1]) & \\\n",
    "        (sza > sza_range[_sza]) & (sza <= sza_range[_sza + 1])\n",
    "        perm = np.random.permutation(np.sum(subset))\n",
    "    \n",
    "        samples = np.where(subset)[0][perm[:samples_per_space]]\n",
    "        sample_set.extend(samples.tolist())"
   ]
  },
  {
   "cell_type": "code",
   "execution_count": 67,
   "id": "0fedb2fa-cee5-4a98-a41a-5d86c37f01cb",
   "metadata": {},
   "outputs": [
    {
     "data": {
      "text/plain": [
       "1232"
      ]
     },
     "execution_count": 67,
     "metadata": {},
     "output_type": "execute_result"
    }
   ],
   "source": [
    "len(sample_set)"
   ]
  },
  {
   "cell_type": "code",
   "execution_count": null,
   "id": "c8dab059-e64e-4147-944b-3f42e6fccf2c",
   "metadata": {},
   "outputs": [],
   "source": []
  }
 ],
 "metadata": {
  "kernelspec": {
   "display_name": "Python 3 (ipykernel)",
   "language": "python",
   "name": "python3"
  },
  "language_info": {
   "codemirror_mode": {
    "name": "ipython",
    "version": 3
   },
   "file_extension": ".py",
   "mimetype": "text/x-python",
   "name": "python",
   "nbconvert_exporter": "python",
   "pygments_lexer": "ipython3",
   "version": "3.9.17"
  }
 },
 "nbformat": 4,
 "nbformat_minor": 5
}
