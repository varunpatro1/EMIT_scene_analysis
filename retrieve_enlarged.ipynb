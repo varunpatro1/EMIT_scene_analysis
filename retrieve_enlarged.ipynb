{
 "cells": [
  {
   "cell_type": "code",
   "execution_count": 1,
   "id": "da6490bd-5cac-4690-b977-7143360fa71a",
   "metadata": {},
   "outputs": [],
   "source": [
    "import numpy as np\n",
    "import json\n",
    "import pandas as pd\n",
    "import matplotlib.pyplot as plt\n",
    "import fid_decomp"
   ]
  },
  {
   "cell_type": "code",
   "execution_count": 2,
   "id": "a58c162b-6e2a-44b4-84de-40cecda64d87",
   "metadata": {},
   "outputs": [
    {
     "name": "stdout",
     "output_type": "stream",
     "text": [
      "dict_keys(['crs', 'features', 'name', 'type'])\n",
      "2\n",
      "41017\n",
      "11\n",
      "17\n"
     ]
    }
   ],
   "source": [
    "with open('../train_sets//track_coverage.json') as user_file:\n",
    "  coverage_file = json.load(user_file)\n",
    "print(coverage_file.keys())\n",
    "print(len(coverage_file['crs']))\n",
    "print(len(coverage_file['features']))\n",
    "print(len(coverage_file['name']))\n",
    "print(len(coverage_file['type']))\n",
    "num_scenes = len(coverage_file['features'])"
   ]
  },
  {
   "cell_type": "code",
   "execution_count": 3,
   "id": "9416373c-d39f-4390-8565-d4268e351fe9",
   "metadata": {},
   "outputs": [
    {
     "name": "stdout",
     "output_type": "stream",
     "text": [
      "valid scenes:  40738\n",
      "WV range:  27708\n",
      "elev:  27708\n",
      "WV med:  27708\n",
      "slope:  27708\n",
      "zen:  27708\n",
      "lat:  27708\n",
      "lon:  27708\n",
      "fids:  27708\n",
      "total cloud fraction:  27708\n",
      "medium clouds:  9434\n",
      "excess clouds:  13030\n"
     ]
    }
   ],
   "source": [
    "WV_range, no_range, WV_med, no_wv_med, elev, no_elev, total_cloud_frac = [], [], [], [], [], [], []\n",
    "slope, zen, lat, lon, fids, excess_clouds, medium_clouds = [], [], [], [], [], [], []\n",
    "\n",
    "all_data_present = []\n",
    "\n",
    "properties_dict_all = [coverage_file['features'][i]['properties'] for i in range(len(coverage_file['features']))]\n",
    "geometry_dict_all = [coverage_file['features'][i]['geometry'] for i in range(len(coverage_file['features']))]\n",
    "\n",
    "for i in range(len(properties_dict_all)):\n",
    "    properties_dict = properties_dict_all[i]\n",
    "    geometry_dict = geometry_dict_all[i]\n",
    "    if 'Retrieved WV 2' in properties_dict and 'Retrieved WV 98' in properties_dict and 'Total Cloud Fraction' in properties_dict:\n",
    "        all_data_present.append(properties_dict['fid'])\n",
    "        if properties_dict['Total Cloud Fraction'] < 0.5:\n",
    "\n",
    "            WV_range.append(properties_dict['Retrieved WV 98'] - properties_dict['Retrieved WV 2'])\n",
    "            elev.append(properties_dict['Retrieved Ele. Median'])\n",
    "            WV_med.append(properties_dict['Retrieved WV Median'])\n",
    "            slope.append(properties_dict['Slope (local surface slope as derived from DEM in degrees)'])\n",
    "            zen.append(properties_dict['To-sun zenith (0 to 90 degrees from zenith)'])\n",
    "            fids.append(properties_dict['fid'])\n",
    "            total_cloud_frac.append(properties_dict['Total Cloud Fraction'])\n",
    "        \n",
    "        \n",
    "            lat_average = (geometry_dict['coordinates'][0][0][0] + geometry_dict['coordinates'][0][1][0])/2\n",
    "            lon_average = (geometry_dict['coordinates'][0][0][1] + geometry_dict['coordinates'][0][1][1])/2\n",
    "            lat.append(lat_average)\n",
    "            lon.append(lon_average)\n",
    "\n",
    "            if properties_dict[\"Total Cloud Fraction\"] > 0.1:\n",
    "                medium_clouds.append(properties_dict['fid'])\n",
    "\n",
    "        else:\n",
    "            excess_clouds.append(properties_dict['fid'])\n",
    "    else:\n",
    "        no_range.append(properties_dict['fid'])\n",
    "        no_wv_med.append(properties_dict['fid'])\n",
    "        no_elev.append(properties_dict['fid'])\n",
    "        \n",
    "print('valid scenes: ', len(all_data_present))\n",
    "print('WV range: ', len(WV_range))\n",
    "print('elev: ', len(elev))\n",
    "print('WV med: ', len(WV_med))\n",
    "print('slope: ', len(slope))\n",
    "print('zen: ', len(zen))\n",
    "print('lat: ', len(lat))\n",
    "print('lon: ', len(lon))\n",
    "print('fids: ', len(fids))\n",
    "print('total cloud fraction: ', len(total_cloud_frac))\n",
    "print('medium clouds: ', len(medium_clouds))\n",
    "print('excess clouds: ', len(excess_clouds))"
   ]
  },
  {
   "cell_type": "code",
   "execution_count": null,
   "id": "199be3c3-4070-452d-a0f5-ecdafbfc2417",
   "metadata": {},
   "outputs": [],
   "source": []
  }
 ],
 "metadata": {
  "kernelspec": {
   "display_name": "Python 3 (ipykernel)",
   "language": "python",
   "name": "python3"
  },
  "language_info": {
   "codemirror_mode": {
    "name": "ipython",
    "version": 3
   },
   "file_extension": ".py",
   "mimetype": "text/x-python",
   "name": "python",
   "nbconvert_exporter": "python",
   "pygments_lexer": "ipython3",
   "version": "3.9.17"
  }
 },
 "nbformat": 4,
 "nbformat_minor": 5
}
