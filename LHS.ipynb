{
 "cells": [
  {
   "cell_type": "code",
   "execution_count": 1,
   "id": "35f3796d-b9f8-4ba5-8c95-b0763fcca19d",
   "metadata": {},
   "outputs": [
    {
     "name": "stdout",
     "output_type": "stream",
     "text": [
      "WARNING: DEPRECATED: pyomo.core.expr.current is deprecated.  Please import\n",
      "expression symbols from pyomo.core.expr  (deprecated in 6.6.2.dev0) (called\n",
      "from <frozen importlib._bootstrap>:228)\n"
     ]
    }
   ],
   "source": [
    "import numpy as np\n",
    "import pandas as pd\n",
    "import pickle\n",
    "from idaes import *\n",
    "#from smt.sampling_methods import LHS\n",
    "#from idaes.surrogate.pysmo.sampling import HammersleySampling\n",
    "\n",
    "#from idaes.surrogate.pysmo.sampling import LatinHypercubeSampling\n",
    "\n",
    "from idaes.core.surrogate.pysmo.sampling import LatinHypercubeSampling"
   ]
  },
  {
   "cell_type": "code",
   "execution_count": 2,
   "id": "abdcff33-ad08-4963-bf4f-73dedfc3e107",
   "metadata": {},
   "outputs": [
    {
     "name": "stdout",
     "output_type": "stream",
     "text": [
      "(33820, 8)\n",
      "<class 'pandas.core.frame.DataFrame'>\n",
      "['elev med' 'zen' 'slope' 'wv range' 'wv med']\n"
     ]
    }
   ],
   "source": [
    "df = pd.read_pickle('../emit_data')\n",
    "print(df.shape)\n",
    "data = df.iloc[:,1:6].copy()\n",
    "print(type(data))\n",
    "print(data.columns.values)"
   ]
  },
  {
   "cell_type": "code",
   "execution_count": 3,
   "id": "861ff81e-be2d-474b-976f-b45c3054f9db",
   "metadata": {},
   "outputs": [
    {
     "data": {
      "text/html": [
       "<div>\n",
       "<style scoped>\n",
       "    .dataframe tbody tr th:only-of-type {\n",
       "        vertical-align: middle;\n",
       "    }\n",
       "\n",
       "    .dataframe tbody tr th {\n",
       "        vertical-align: top;\n",
       "    }\n",
       "\n",
       "    .dataframe thead th {\n",
       "        text-align: right;\n",
       "    }\n",
       "</style>\n",
       "<table border=\"1\" class=\"dataframe\">\n",
       "  <thead>\n",
       "    <tr style=\"text-align: right;\">\n",
       "      <th></th>\n",
       "      <th>elev med</th>\n",
       "      <th>zen</th>\n",
       "      <th>slope</th>\n",
       "      <th>wv range</th>\n",
       "      <th>wv med</th>\n",
       "    </tr>\n",
       "  </thead>\n",
       "  <tbody>\n",
       "    <tr>\n",
       "      <th>0</th>\n",
       "      <td>3.17</td>\n",
       "      <td>49.77</td>\n",
       "      <td>9.00</td>\n",
       "      <td>2.69</td>\n",
       "      <td>0.24</td>\n",
       "    </tr>\n",
       "    <tr>\n",
       "      <th>1</th>\n",
       "      <td>2.75</td>\n",
       "      <td>49.24</td>\n",
       "      <td>3.77</td>\n",
       "      <td>0.16</td>\n",
       "      <td>0.09</td>\n",
       "    </tr>\n",
       "    <tr>\n",
       "      <th>2</th>\n",
       "      <td>2.52</td>\n",
       "      <td>48.71</td>\n",
       "      <td>4.14</td>\n",
       "      <td>0.30</td>\n",
       "      <td>0.12</td>\n",
       "    </tr>\n",
       "    <tr>\n",
       "      <th>3</th>\n",
       "      <td>2.55</td>\n",
       "      <td>48.19</td>\n",
       "      <td>1.84</td>\n",
       "      <td>4.10</td>\n",
       "      <td>0.08</td>\n",
       "    </tr>\n",
       "    <tr>\n",
       "      <th>4</th>\n",
       "      <td>0.96</td>\n",
       "      <td>47.68</td>\n",
       "      <td>2.41</td>\n",
       "      <td>4.99</td>\n",
       "      <td>3.88</td>\n",
       "    </tr>\n",
       "  </tbody>\n",
       "</table>\n",
       "</div>"
      ],
      "text/plain": [
       "   elev med    zen  slope  wv range  wv med\n",
       "0      3.17  49.77   9.00      2.69    0.24\n",
       "1      2.75  49.24   3.77      0.16    0.09\n",
       "2      2.52  48.71   4.14      0.30    0.12\n",
       "3      2.55  48.19   1.84      4.10    0.08\n",
       "4      0.96  47.68   2.41      4.99    3.88"
      ]
     },
     "execution_count": 3,
     "metadata": {},
     "output_type": "execute_result"
    }
   ],
   "source": [
    "data.head()"
   ]
  },
  {
   "cell_type": "code",
   "execution_count": 10,
   "id": "dbde3966-e005-4369-8993-867f8e683c98",
   "metadata": {},
   "outputs": [
    {
     "name": "stdout",
     "output_type": "stream",
     "text": [
      "Sampling type:  selection \n",
      "\n"
     ]
    }
   ],
   "source": [
    "lhs = LatinHypercubeSampling(data, 1500, sampling_type=\"selection\", xlabels = ['elev med', 'zen', 'slope', 'wv range', 'wv med'])"
   ]
  },
  {
   "cell_type": "code",
   "execution_count": 11,
   "id": "213b799d-99a5-46cc-9103-957051628e07",
   "metadata": {
    "scrolled": true
   },
   "outputs": [
    {
     "name": "stdout",
     "output_type": "stream",
     "text": [
      "\n",
      "Number of unique samples returned by sampling algorithm: 764\n"
     ]
    },
    {
     "name": "stderr",
     "output_type": "stream",
     "text": [
      "c:\\users\\vpatro\\desktop\\idaes-pse\\idaes\\core\\surrogate\\pysmo\\sampling.py:183: UserWarning: The returned number of samples is less than the requested number due to repetitions during nearest neighbour selection.\n",
      "  warnings.warn(\n"
     ]
    }
   ],
   "source": [
    "samples = lhs.sample_points()"
   ]
  },
  {
   "cell_type": "code",
   "execution_count": 12,
   "id": "105ef709-0b3f-4c82-8062-15519004536a",
   "metadata": {},
   "outputs": [
    {
     "data": {
      "text/plain": [
       "(764, 5)"
      ]
     },
     "execution_count": 12,
     "metadata": {},
     "output_type": "execute_result"
    }
   ],
   "source": [
    "samples.shape"
   ]
  },
  {
   "cell_type": "code",
   "execution_count": 76,
   "id": "5970a846-08d5-420c-9e49-2a6395535579",
   "metadata": {},
   "outputs": [],
   "source": []
  },
  {
   "cell_type": "markdown",
   "id": "d244c780-1cd5-453b-a707-10c61f9417fb",
   "metadata": {},
   "source": [
    "xlabels = ['elev med', 'zen', 'slope', 'wv range', 'wv med']\n",
    "\n",
    "set_of_labels = xlabels\n",
    "x_data = data.filter(xlabels).values\n",
    "print('x data: ', x_data.shape)\n",
    "data_headers = set_of_labels\n",
    "print('data headers: ', data_headers)\n",
    "data_headers_xvars = xlabels\n",
    "print('data headers xvars: ', data_headers_xvars)\n",
    "data = data.filter(set_of_labels).values\n",
    "print('data: ', data.shape)"
   ]
  },
  {
   "cell_type": "markdown",
   "id": "e1a9fba5-4091-404b-8cf0-8cf5f64c23c2",
   "metadata": {},
   "source": [
    "no_y_vars = x_data.shape[1] - data.shape[1]\n",
    "print(no_y_vars)\n",
    "data[:, :no_y_vars]\n",
    "dist = data[:, :no_y_vars] - data[0]"
   ]
  },
  {
   "cell_type": "markdown",
   "id": "eec02c9d-ec9a-461a-9dad-7abded188364",
   "metadata": {},
   "source": [
    "dist = data - data[0]\n",
    "l2_norm = np.sqrt(np.sum((dist**2), axis=1))\n",
    "l2_norm = l2_norm.reshape(l2_norm.shape[0], 1)\n",
    "distances = np.append(data, l2_norm, 1)\n",
    "sorted_distances = distances[distances[:, -1].argsort()]\n",
    "closest_point = sorted_distances[0, :-1]\n",
    "print(closest_point)"
   ]
  },
  {
   "cell_type": "code",
   "execution_count": 87,
   "id": "34fa3864-ae98-42a2-a242-cdce463b8963",
   "metadata": {},
   "outputs": [
    {
     "data": {
      "text/plain": [
       "array([ 3.17, 49.77,  9.  ,  2.69,  0.24])"
      ]
     },
     "execution_count": 87,
     "metadata": {},
     "output_type": "execute_result"
    }
   ],
   "source": [
    "data[0]"
   ]
  },
  {
   "cell_type": "code",
   "execution_count": 83,
   "id": "0f5d927c-7b87-489c-83d8-764ef1af4398",
   "metadata": {},
   "outputs": [
    {
     "data": {
      "text/plain": [
       "array([[  0.  ,   0.  ,   0.  ,   0.  ,   0.  ],\n",
       "       [ -0.42,  -0.53,  -5.23,  -2.53,  -0.15],\n",
       "       [ -0.65,  -1.06,  -4.86,  -2.39,  -0.12],\n",
       "       ...,\n",
       "       [ -3.17,  -9.3 ,  -7.01,  -0.94,   2.23],\n",
       "       [ -2.44, -14.87,  -0.75,   3.26,   2.46],\n",
       "       [ -2.34, -14.31,  -6.76,   3.21,   1.7 ]])"
      ]
     },
     "execution_count": 83,
     "metadata": {},
     "output_type": "execute_result"
    }
   ],
   "source": [
    "dist"
   ]
  },
  {
   "cell_type": "code",
   "execution_count": 11,
   "id": "def05ad9-b3ab-4510-85aa-5fefee7174e8",
   "metadata": {},
   "outputs": [],
   "source": [
    "import lhs"
   ]
  },
  {
   "cell_type": "code",
   "execution_count": 91,
   "id": "d7960d27-f04f-485f-b7eb-cc5fb2a9bf5e",
   "metadata": {},
   "outputs": [
    {
     "data": {
      "text/plain": [
       "array([[ 3.17, 49.77,  9.  ,  2.69],\n",
       "       [ 2.75, 49.24,  3.77,  0.16],\n",
       "       [ 2.52, 48.71,  4.14,  0.3 ],\n",
       "       ...,\n",
       "       [ 0.  , 40.47,  1.99,  1.75],\n",
       "       [ 0.73, 34.9 ,  8.25,  5.95],\n",
       "       [ 0.83, 35.46,  2.24,  5.9 ]])"
      ]
     },
     "execution_count": 91,
     "metadata": {},
     "output_type": "execute_result"
    }
   ],
   "source": [
    "data[:,:-1]"
   ]
  },
  {
   "cell_type": "code",
   "execution_count": 13,
   "id": "86b5a57c-35f3-4711-8a7a-5a2a823d3826",
   "metadata": {},
   "outputs": [
    {
     "ename": "AttributeError",
     "evalue": "'LHS' object has no attribute 'sampling_type'",
     "output_type": "error",
     "traceback": [
      "\u001b[1;31m---------------------------------------------------------------------------\u001b[0m",
      "\u001b[1;31mAttributeError\u001b[0m                            Traceback (most recent call last)",
      "Cell \u001b[1;32mIn[13], line 1\u001b[0m\n\u001b[1;32m----> 1\u001b[0m lhs_sampler \u001b[38;5;241m=\u001b[39m \u001b[43mlhs\u001b[49m\u001b[38;5;241;43m.\u001b[39;49m\u001b[43mLHS\u001b[49m\u001b[43m(\u001b[49m\u001b[43mdata\u001b[49m\u001b[43m,\u001b[49m\u001b[43m \u001b[49m\u001b[38;5;241;43m1000\u001b[39;49m\u001b[43m,\u001b[49m\u001b[43m \u001b[49m\u001b[43msampling_type\u001b[49m\u001b[38;5;241;43m=\u001b[39;49m\u001b[38;5;124;43m\"\u001b[39;49m\u001b[38;5;124;43mselection\u001b[39;49m\u001b[38;5;124;43m\"\u001b[39;49m\u001b[43m,\u001b[49m\u001b[43m \u001b[49m\u001b[43mxlabels\u001b[49m\u001b[43m \u001b[49m\u001b[38;5;241;43m=\u001b[39;49m\u001b[43m \u001b[49m\u001b[43m[\u001b[49m\u001b[38;5;124;43m'\u001b[39;49m\u001b[38;5;124;43melev med\u001b[39;49m\u001b[38;5;124;43m'\u001b[39;49m\u001b[43m,\u001b[49m\u001b[43m \u001b[49m\u001b[38;5;124;43m'\u001b[39;49m\u001b[38;5;124;43mzen\u001b[39;49m\u001b[38;5;124;43m'\u001b[39;49m\u001b[43m,\u001b[49m\u001b[43m \u001b[49m\u001b[38;5;124;43m'\u001b[39;49m\u001b[38;5;124;43mslope\u001b[39;49m\u001b[38;5;124;43m'\u001b[39;49m\u001b[43m,\u001b[49m\u001b[43m \u001b[49m\u001b[38;5;124;43m'\u001b[39;49m\u001b[38;5;124;43mwv range\u001b[39;49m\u001b[38;5;124;43m'\u001b[39;49m\u001b[43m,\u001b[49m\u001b[43m \u001b[49m\u001b[38;5;124;43m'\u001b[39;49m\u001b[38;5;124;43mwv med\u001b[39;49m\u001b[38;5;124;43m'\u001b[39;49m\u001b[43m]\u001b[49m\u001b[43m)\u001b[49m\n",
      "File \u001b[1;32m~\\Desktop\\global_coverage\\lhs.py:188\u001b[0m, in \u001b[0;36mLHS.__init__\u001b[1;34m(self, data_input, number_of_samples, sampling_type, xlabels, ylabels)\u001b[0m\n\u001b[0;32m    186\u001b[0m \u001b[38;5;28;01mdef\u001b[39;00m \u001b[38;5;21m__init__\u001b[39m(\u001b[38;5;28mself\u001b[39m, data_input, number_of_samples\u001b[38;5;241m=\u001b[39m\u001b[38;5;28;01mNone\u001b[39;00m, sampling_type\u001b[38;5;241m=\u001b[39m\u001b[38;5;28;01mNone\u001b[39;00m, xlabels\u001b[38;5;241m=\u001b[39m\u001b[38;5;28;01mNone\u001b[39;00m, ylabels\u001b[38;5;241m=\u001b[39m\u001b[38;5;28;01mNone\u001b[39;00m):\n\u001b[1;32m--> 188\u001b[0m     \u001b[38;5;28;01mif\u001b[39;00m \u001b[38;5;28;43mself\u001b[39;49m\u001b[38;5;241;43m.\u001b[39;49m\u001b[43msampling_type\u001b[49m \u001b[38;5;241m==\u001b[39m \u001b[38;5;124m\"\u001b[39m\u001b[38;5;124mselection\u001b[39m\u001b[38;5;124m\"\u001b[39m:\n\u001b[0;32m    189\u001b[0m         \u001b[38;5;28;01mif\u001b[39;00m \u001b[38;5;28misinstance\u001b[39m(data_input, (pd\u001b[38;5;241m.\u001b[39mDataFrame, np\u001b[38;5;241m.\u001b[39mndarray)):\n\u001b[0;32m    190\u001b[0m             \u001b[38;5;28mself\u001b[39m\u001b[38;5;241m.\u001b[39mselection_columns_preprocessing(data_input, xlabels, ylabels)\n",
      "\u001b[1;31mAttributeError\u001b[0m: 'LHS' object has no attribute 'sampling_type'"
     ]
    }
   ],
   "source": [
    "lhs_sampler = lhs.LHS(data, 1000, sampling_type=\"selection\", xlabels = ['elev med', 'zen', 'slope', 'wv range', 'wv med'])"
   ]
  },
  {
   "cell_type": "code",
   "execution_count": 10,
   "id": "5b6dede7-e6bf-4c36-be7a-04cfae7103ff",
   "metadata": {},
   "outputs": [
    {
     "ename": "ValueError",
     "evalue": "operands could not be broadcast together with shapes (33820,0) (5,) ",
     "output_type": "error",
     "traceback": [
      "\u001b[1;31m---------------------------------------------------------------------------\u001b[0m",
      "\u001b[1;31mValueError\u001b[0m                                Traceback (most recent call last)",
      "Cell \u001b[1;32mIn[10], line 1\u001b[0m\n\u001b[1;32m----> 1\u001b[0m samples \u001b[38;5;241m=\u001b[39m \u001b[43mlhs\u001b[49m\u001b[38;5;241;43m.\u001b[39;49m\u001b[43msample_points\u001b[49m\u001b[43m(\u001b[49m\u001b[43m)\u001b[49m\n",
      "File \u001b[1;32m~\\AppData\\Local\\anaconda3\\envs\\coverage_plotting\\lib\\site-packages\\idaes\\core\\surrogate\\pysmo\\sampling.py:681\u001b[0m, in \u001b[0;36mLatinHypercubeSampling.sample_points\u001b[1;34m(self)\u001b[0m\n\u001b[0;32m    677\u001b[0m vector_of_points \u001b[38;5;241m=\u001b[39m (\n\u001b[0;32m    678\u001b[0m     \u001b[38;5;28mself\u001b[39m\u001b[38;5;241m.\u001b[39mlhs_points_generation()\n\u001b[0;32m    679\u001b[0m )  \u001b[38;5;66;03m# Assumes [X, Y] data is supplied.\u001b[39;00m\n\u001b[0;32m    680\u001b[0m generated_sample_points \u001b[38;5;241m=\u001b[39m \u001b[38;5;28mself\u001b[39m\u001b[38;5;241m.\u001b[39mrandom_shuffling(vector_of_points)\n\u001b[1;32m--> 681\u001b[0m unique_sample_points \u001b[38;5;241m=\u001b[39m \u001b[38;5;28;43mself\u001b[39;49m\u001b[38;5;241;43m.\u001b[39;49m\u001b[43msample_point_selection\u001b[49m\u001b[43m(\u001b[49m\n\u001b[0;32m    682\u001b[0m \u001b[43m    \u001b[49m\u001b[38;5;28;43mself\u001b[39;49m\u001b[38;5;241;43m.\u001b[39;49m\u001b[43mdata\u001b[49m\u001b[43m,\u001b[49m\u001b[43m \u001b[49m\u001b[43mgenerated_sample_points\u001b[49m\u001b[43m,\u001b[49m\u001b[43m \u001b[49m\u001b[38;5;28;43mself\u001b[39;49m\u001b[38;5;241;43m.\u001b[39;49m\u001b[43msampling_type\u001b[49m\n\u001b[0;32m    683\u001b[0m \u001b[43m\u001b[49m\u001b[43m)\u001b[49m\n\u001b[0;32m    685\u001b[0m \u001b[38;5;28;01mif\u001b[39;00m \u001b[38;5;28mlen\u001b[39m(\u001b[38;5;28mself\u001b[39m\u001b[38;5;241m.\u001b[39mdata_headers) \u001b[38;5;241m>\u001b[39m \u001b[38;5;241m0\u001b[39m \u001b[38;5;129;01mand\u001b[39;00m \u001b[38;5;28mself\u001b[39m\u001b[38;5;241m.\u001b[39mdf_flag:\n\u001b[0;32m    686\u001b[0m     unique_sample_points \u001b[38;5;241m=\u001b[39m pd\u001b[38;5;241m.\u001b[39mDataFrame(\n\u001b[0;32m    687\u001b[0m         unique_sample_points, columns\u001b[38;5;241m=\u001b[39m\u001b[38;5;28mself\u001b[39m\u001b[38;5;241m.\u001b[39mdata_headers\n\u001b[0;32m    688\u001b[0m     )\n",
      "File \u001b[1;32m~\\AppData\\Local\\anaconda3\\envs\\coverage_plotting\\lib\\site-packages\\idaes\\core\\surrogate\\pysmo\\sampling.py:176\u001b[0m, in \u001b[0;36mSamplingMethods.sample_point_selection\u001b[1;34m(self, full_data, sample_points, sampling_type)\u001b[0m\n\u001b[0;32m    174\u001b[0m sd \u001b[38;5;241m=\u001b[39m FeatureScaling()\n\u001b[0;32m    175\u001b[0m scaled_data, data_min, data_max \u001b[38;5;241m=\u001b[39m sd\u001b[38;5;241m.\u001b[39mdata_scaling_minmax(full_data)\n\u001b[1;32m--> 176\u001b[0m points_closest_scaled \u001b[38;5;241m=\u001b[39m \u001b[38;5;28;43mself\u001b[39;49m\u001b[38;5;241;43m.\u001b[39;49m\u001b[43mpoints_selection\u001b[49m\u001b[43m(\u001b[49m\u001b[43mscaled_data\u001b[49m\u001b[43m,\u001b[49m\u001b[43m \u001b[49m\u001b[43msample_points\u001b[49m\u001b[43m)\u001b[49m\n\u001b[0;32m    177\u001b[0m points_closest_unscaled \u001b[38;5;241m=\u001b[39m sd\u001b[38;5;241m.\u001b[39mdata_unscaling_minmax(\n\u001b[0;32m    178\u001b[0m     points_closest_scaled, data_min, data_max\n\u001b[0;32m    179\u001b[0m )\n\u001b[0;32m    181\u001b[0m unique_sample_points \u001b[38;5;241m=\u001b[39m np\u001b[38;5;241m.\u001b[39munique(points_closest_unscaled, axis\u001b[38;5;241m=\u001b[39m\u001b[38;5;241m0\u001b[39m)\n",
      "File \u001b[1;32m~\\AppData\\Local\\anaconda3\\envs\\coverage_plotting\\lib\\site-packages\\idaes\\core\\surrogate\\pysmo\\sampling.py:166\u001b[0m, in \u001b[0;36mSamplingMethods.points_selection\u001b[1;34m(self, full_data, generated_sample_points)\u001b[0m\n\u001b[0;32m    162\u001b[0m equivalent_points \u001b[38;5;241m=\u001b[39m np\u001b[38;5;241m.\u001b[39mzeros(\n\u001b[0;32m    163\u001b[0m     (generated_sample_points\u001b[38;5;241m.\u001b[39mshape[\u001b[38;5;241m0\u001b[39m], \u001b[38;5;28mlen\u001b[39m(\u001b[38;5;28mself\u001b[39m\u001b[38;5;241m.\u001b[39mdata_headers))\n\u001b[0;32m    164\u001b[0m )\n\u001b[0;32m    165\u001b[0m \u001b[38;5;28;01mfor\u001b[39;00m i \u001b[38;5;129;01min\u001b[39;00m \u001b[38;5;28mrange\u001b[39m(\u001b[38;5;241m0\u001b[39m, generated_sample_points\u001b[38;5;241m.\u001b[39mshape[\u001b[38;5;241m0\u001b[39m]):\n\u001b[1;32m--> 166\u001b[0m     closest_point \u001b[38;5;241m=\u001b[39m \u001b[38;5;28;43mself\u001b[39;49m\u001b[38;5;241;43m.\u001b[39;49m\u001b[43mnearest_neighbour\u001b[49m\u001b[43m(\u001b[49m\n\u001b[0;32m    167\u001b[0m \u001b[43m        \u001b[49m\u001b[43mfull_data\u001b[49m\u001b[43m,\u001b[49m\u001b[43m \u001b[49m\u001b[43mgenerated_sample_points\u001b[49m\u001b[43m[\u001b[49m\u001b[43mi\u001b[49m\u001b[43m,\u001b[49m\u001b[43m \u001b[49m\u001b[43m:\u001b[49m\u001b[43m]\u001b[49m\n\u001b[0;32m    168\u001b[0m \u001b[43m    \u001b[49m\u001b[43m)\u001b[49m\n\u001b[0;32m    169\u001b[0m     equivalent_points[i, :] \u001b[38;5;241m=\u001b[39m closest_point\n\u001b[0;32m    170\u001b[0m \u001b[38;5;28;01mreturn\u001b[39;00m equivalent_points\n",
      "File \u001b[1;32m~\\AppData\\Local\\anaconda3\\envs\\coverage_plotting\\lib\\site-packages\\idaes\\core\\surrogate\\pysmo\\sampling.py:141\u001b[0m, in \u001b[0;36mSamplingMethods.nearest_neighbour\u001b[1;34m(self, full_data, a)\u001b[0m\n\u001b[0;32m    123\u001b[0m \u001b[38;5;250m\u001b[39m\u001b[38;5;124;03m\"\"\"\u001b[39;00m\n\u001b[0;32m    124\u001b[0m \u001b[38;5;124;03mFunction determines the closest point to a in data_input (user provided data).\u001b[39;00m\n\u001b[0;32m    125\u001b[0m \u001b[38;5;124;03mThis is done by determining the input data with the smallest L2 distance from a.\u001b[39;00m\n\u001b[1;32m   (...)\u001b[0m\n\u001b[0;32m    138\u001b[0m \u001b[38;5;124;03m    closest_point: a row vector containing the closest point to a in self.x_data\u001b[39;00m\n\u001b[0;32m    139\u001b[0m \u001b[38;5;124;03m\"\"\"\u001b[39;00m\n\u001b[0;32m    140\u001b[0m no_y_vars \u001b[38;5;241m=\u001b[39m \u001b[38;5;28mself\u001b[39m\u001b[38;5;241m.\u001b[39mx_data\u001b[38;5;241m.\u001b[39mshape[\u001b[38;5;241m1\u001b[39m] \u001b[38;5;241m-\u001b[39m full_data\u001b[38;5;241m.\u001b[39mshape[\u001b[38;5;241m1\u001b[39m]\n\u001b[1;32m--> 141\u001b[0m dist \u001b[38;5;241m=\u001b[39m \u001b[43mfull_data\u001b[49m\u001b[43m[\u001b[49m\u001b[43m:\u001b[49m\u001b[43m,\u001b[49m\u001b[43m \u001b[49m\u001b[43m:\u001b[49m\u001b[43mno_y_vars\u001b[49m\u001b[43m]\u001b[49m\u001b[43m \u001b[49m\u001b[38;5;241;43m-\u001b[39;49m\u001b[43m \u001b[49m\u001b[43ma\u001b[49m\n\u001b[0;32m    142\u001b[0m l2_norm \u001b[38;5;241m=\u001b[39m np\u001b[38;5;241m.\u001b[39msqrt(np\u001b[38;5;241m.\u001b[39msum((dist\u001b[38;5;241m*\u001b[39m\u001b[38;5;241m*\u001b[39m\u001b[38;5;241m2\u001b[39m), axis\u001b[38;5;241m=\u001b[39m\u001b[38;5;241m1\u001b[39m))\n\u001b[0;32m    143\u001b[0m l2_norm \u001b[38;5;241m=\u001b[39m l2_norm\u001b[38;5;241m.\u001b[39mreshape(l2_norm\u001b[38;5;241m.\u001b[39mshape[\u001b[38;5;241m0\u001b[39m], \u001b[38;5;241m1\u001b[39m)\n",
      "\u001b[1;31mValueError\u001b[0m: operands could not be broadcast together with shapes (33820,0) (5,) "
     ]
    }
   ],
   "source": [
    "samples = lhs.sample_points()"
   ]
  },
  {
   "cell_type": "code",
   "execution_count": null,
   "id": "63521aa7-9e3b-42c3-b0e3-165348c024a3",
   "metadata": {},
   "outputs": [],
   "source": []
  }
 ],
 "metadata": {
  "kernelspec": {
   "display_name": "Python 3 (ipykernel)",
   "language": "python",
   "name": "python3"
  },
  "language_info": {
   "codemirror_mode": {
    "name": "ipython",
    "version": 3
   },
   "file_extension": ".py",
   "mimetype": "text/x-python",
   "name": "python",
   "nbconvert_exporter": "python",
   "pygments_lexer": "ipython3",
   "version": "3.9.17"
  }
 },
 "nbformat": 4,
 "nbformat_minor": 5
}
