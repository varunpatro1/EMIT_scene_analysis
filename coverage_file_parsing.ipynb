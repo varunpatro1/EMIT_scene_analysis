{
 "cells": [
  {
   "cell_type": "code",
   "execution_count": 1,
   "id": "f8abe2f0-5b2c-48b9-925f-31ab1048f9a3",
   "metadata": {},
   "outputs": [],
   "source": [
    "import json"
   ]
  },
  {
   "cell_type": "code",
   "execution_count": 10,
   "id": "3b5ec117-e383-41b7-8c0a-888a8b19889d",
   "metadata": {},
   "outputs": [],
   "source": [
    "with open('../track_coverage_pub.json') as user_file:\n",
    "  coverage_file = json.load(user_file)"
   ]
  },
  {
   "cell_type": "code",
   "execution_count": 52,
   "id": "a698200d-d439-4c75-b82e-5a77414db646",
   "metadata": {},
   "outputs": [
    {
     "data": {
      "text/plain": [
       "dict_keys(['crs', 'features', 'name', 'type'])"
      ]
     },
     "execution_count": 52,
     "metadata": {},
     "output_type": "execute_result"
    }
   ],
   "source": [
    "coverage_file.keys()"
   ]
  },
  {
   "cell_type": "code",
   "execution_count": 53,
   "id": "4b1032bb-c469-4093-9fb2-4f3b7f1a2401",
   "metadata": {},
   "outputs": [
    {
     "data": {
      "text/plain": [
       "dict_keys"
      ]
     },
     "execution_count": 53,
     "metadata": {},
     "output_type": "execute_result"
    }
   ],
   "source": [
    "type(coverage_file.keys())"
   ]
  },
  {
   "cell_type": "code",
   "execution_count": 16,
   "id": "9d5d3ee4-7ada-4722-b21b-6cec24de66de",
   "metadata": {},
   "outputs": [
    {
     "name": "stdout",
     "output_type": "stream",
     "text": [
      "2\n",
      "33210\n",
      "11\n",
      "17\n"
     ]
    }
   ],
   "source": [
    "print(len(coverage_file['crs']))\n",
    "print(len(coverage_file['features']))\n",
    "print(len(coverage_file['name']))\n",
    "print(len(coverage_file['type']))"
   ]
  },
  {
   "cell_type": "code",
   "execution_count": 24,
   "id": "9f2c1195-27eb-4ac6-b10a-ff0e7584fe08",
   "metadata": {},
   "outputs": [
    {
     "data": {
      "text/plain": [
       "0.0"
      ]
     },
     "execution_count": 24,
     "metadata": {},
     "output_type": "execute_result"
    }
   ],
   "source": [
    "((coverage_file['features'][0])['properties'])['Retrieved AOT Median']"
   ]
  },
  {
   "cell_type": "code",
   "execution_count": 30,
   "id": "62875c3a-9f9b-4bfa-918c-9ea6d1051f06",
   "metadata": {},
   "outputs": [
    {
     "data": {
      "text/plain": [
       "0.0"
      ]
     },
     "execution_count": 30,
     "metadata": {},
     "output_type": "execute_result"
    }
   ],
   "source": [
    "((coverage_file['features'][1])['properties'])['Retrieved AOT Median']"
   ]
  },
  {
   "cell_type": "code",
   "execution_count": 32,
   "id": "f825d3a2-e6b2-4c1e-8e76-c76f2783687a",
   "metadata": {},
   "outputs": [
    {
     "data": {
      "text/plain": [
       "0.0"
      ]
     },
     "execution_count": 32,
     "metadata": {},
     "output_type": "execute_result"
    }
   ],
   "source": [
    "((coverage_file['features'][2])['properties'])['Retrieved AOT Median']"
   ]
  },
  {
   "cell_type": "code",
   "execution_count": 42,
   "id": "3f46b629-ae6a-4845-a878-089821564372",
   "metadata": {},
   "outputs": [],
   "source": [
    "AOT_medians = []\n",
    "for i in range(264):\n",
    "    AOT_medians.append(((coverage_file['features'][i])['properties'])['Retrieved AOT Median'])"
   ]
  },
  {
   "cell_type": "code",
   "execution_count": 43,
   "id": "5cee8233-976c-468a-a645-0cc4eedf6866",
   "metadata": {},
   "outputs": [
    {
     "ename": "KeyError",
     "evalue": "'Retrieved AOT Median'",
     "output_type": "error",
     "traceback": [
      "\u001b[1;31m---------------------------------------------------------------------------\u001b[0m",
      "\u001b[1;31mKeyError\u001b[0m                                  Traceback (most recent call last)",
      "Cell \u001b[1;32mIn[43], line 3\u001b[0m\n\u001b[0;32m      1\u001b[0m AOT_medians \u001b[38;5;241m=\u001b[39m []\n\u001b[0;32m      2\u001b[0m \u001b[38;5;28;01mfor\u001b[39;00m i \u001b[38;5;129;01min\u001b[39;00m \u001b[38;5;28mrange\u001b[39m(\u001b[38;5;241m265\u001b[39m):\n\u001b[1;32m----> 3\u001b[0m     AOT_medians\u001b[38;5;241m.\u001b[39mappend(\u001b[43m(\u001b[49m\u001b[43m(\u001b[49m\u001b[43mcoverage_file\u001b[49m\u001b[43m[\u001b[49m\u001b[38;5;124;43m'\u001b[39;49m\u001b[38;5;124;43mfeatures\u001b[39;49m\u001b[38;5;124;43m'\u001b[39;49m\u001b[43m]\u001b[49m\u001b[43m[\u001b[49m\u001b[43mi\u001b[49m\u001b[43m]\u001b[49m\u001b[43m)\u001b[49m\u001b[43m[\u001b[49m\u001b[38;5;124;43m'\u001b[39;49m\u001b[38;5;124;43mproperties\u001b[39;49m\u001b[38;5;124;43m'\u001b[39;49m\u001b[43m]\u001b[49m\u001b[43m)\u001b[49m\u001b[43m[\u001b[49m\u001b[38;5;124;43m'\u001b[39;49m\u001b[38;5;124;43mRetrieved AOT Median\u001b[39;49m\u001b[38;5;124;43m'\u001b[39;49m\u001b[43m]\u001b[49m)\n",
      "\u001b[1;31mKeyError\u001b[0m: 'Retrieved AOT Median'"
     ]
    }
   ],
   "source": [
    "AOT_medians = []\n",
    "for i in range(265):\n",
    "    AOT_medians.append(((coverage_file['features'][i])['properties'])['Retrieved AOT Median'])"
   ]
  },
  {
   "cell_type": "code",
   "execution_count": 44,
   "id": "1150feb6-6f0e-4e0a-a6de-8695f3b52b8c",
   "metadata": {},
   "outputs": [
    {
     "data": {
      "text/plain": [
       "264"
      ]
     },
     "execution_count": 44,
     "metadata": {},
     "output_type": "execute_result"
    }
   ],
   "source": [
    "len(AOT_medians)"
   ]
  },
  {
   "cell_type": "code",
   "execution_count": 45,
   "id": "9d7d5e9d-4a2e-4f1c-9898-a1be6c9a551a",
   "metadata": {},
   "outputs": [
    {
     "ename": "KeyError",
     "evalue": "'Retrieved AOT Median'",
     "output_type": "error",
     "traceback": [
      "\u001b[1;31m---------------------------------------------------------------------------\u001b[0m",
      "\u001b[1;31mKeyError\u001b[0m                                  Traceback (most recent call last)",
      "Cell \u001b[1;32mIn[45], line 3\u001b[0m\n\u001b[0;32m      1\u001b[0m AOT_medians \u001b[38;5;241m=\u001b[39m []\n\u001b[0;32m      2\u001b[0m \u001b[38;5;28;01mfor\u001b[39;00m i \u001b[38;5;129;01min\u001b[39;00m \u001b[38;5;28mrange\u001b[39m(\u001b[38;5;241m266\u001b[39m, \u001b[38;5;28mlen\u001b[39m(coverage_file[\u001b[38;5;124m'\u001b[39m\u001b[38;5;124mfeatures\u001b[39m\u001b[38;5;124m'\u001b[39m])):\n\u001b[1;32m----> 3\u001b[0m     AOT_medians\u001b[38;5;241m.\u001b[39mappend(\u001b[43m(\u001b[49m\u001b[43m(\u001b[49m\u001b[43mcoverage_file\u001b[49m\u001b[43m[\u001b[49m\u001b[38;5;124;43m'\u001b[39;49m\u001b[38;5;124;43mfeatures\u001b[39;49m\u001b[38;5;124;43m'\u001b[39;49m\u001b[43m]\u001b[49m\u001b[43m[\u001b[49m\u001b[43mi\u001b[49m\u001b[43m]\u001b[49m\u001b[43m)\u001b[49m\u001b[43m[\u001b[49m\u001b[38;5;124;43m'\u001b[39;49m\u001b[38;5;124;43mproperties\u001b[39;49m\u001b[38;5;124;43m'\u001b[39;49m\u001b[43m]\u001b[49m\u001b[43m)\u001b[49m\u001b[43m[\u001b[49m\u001b[38;5;124;43m'\u001b[39;49m\u001b[38;5;124;43mRetrieved AOT Median\u001b[39;49m\u001b[38;5;124;43m'\u001b[39;49m\u001b[43m]\u001b[49m)\n",
      "\u001b[1;31mKeyError\u001b[0m: 'Retrieved AOT Median'"
     ]
    }
   ],
   "source": [
    "AOT_medians = []\n",
    "for i in range(266, len(coverage_file['features'])):\n",
    "    AOT_medians.append(((coverage_file['features'][i])['properties'])['Retrieved AOT Median'])"
   ]
  },
  {
   "cell_type": "code",
   "execution_count": 46,
   "id": "89de5e72-e1c7-4279-9202-1c142c0b3084",
   "metadata": {},
   "outputs": [
    {
     "data": {
      "text/plain": [
       "745"
      ]
     },
     "execution_count": 46,
     "metadata": {},
     "output_type": "execute_result"
    }
   ],
   "source": [
    "len(AOT_medians)"
   ]
  },
  {
   "cell_type": "code",
   "execution_count": 49,
   "id": "e6acd22f-8090-472e-b8ec-7f50a6ac8875",
   "metadata": {},
   "outputs": [
    {
     "ename": "KeyError",
     "evalue": "'Retrieved AOT Median'",
     "output_type": "error",
     "traceback": [
      "\u001b[1;31m---------------------------------------------------------------------------\u001b[0m",
      "\u001b[1;31mKeyError\u001b[0m                                  Traceback (most recent call last)",
      "Cell \u001b[1;32mIn[49], line 3\u001b[0m\n\u001b[0;32m      1\u001b[0m AOT_medians \u001b[38;5;241m=\u001b[39m []\n\u001b[0;32m      2\u001b[0m \u001b[38;5;28;01mfor\u001b[39;00m i \u001b[38;5;129;01min\u001b[39;00m \u001b[38;5;28mrange\u001b[39m(\u001b[38;5;241m746\u001b[39m, \u001b[38;5;28mlen\u001b[39m(coverage_file[\u001b[38;5;124m'\u001b[39m\u001b[38;5;124mfeatures\u001b[39m\u001b[38;5;124m'\u001b[39m])):\n\u001b[1;32m----> 3\u001b[0m     AOT_medians\u001b[38;5;241m.\u001b[39mappend(\u001b[43m(\u001b[49m\u001b[43m(\u001b[49m\u001b[43mcoverage_file\u001b[49m\u001b[43m[\u001b[49m\u001b[38;5;124;43m'\u001b[39;49m\u001b[38;5;124;43mfeatures\u001b[39;49m\u001b[38;5;124;43m'\u001b[39;49m\u001b[43m]\u001b[49m\u001b[43m[\u001b[49m\u001b[43mi\u001b[49m\u001b[43m]\u001b[49m\u001b[43m)\u001b[49m\u001b[43m[\u001b[49m\u001b[38;5;124;43m'\u001b[39;49m\u001b[38;5;124;43mproperties\u001b[39;49m\u001b[38;5;124;43m'\u001b[39;49m\u001b[43m]\u001b[49m\u001b[43m)\u001b[49m\u001b[43m[\u001b[49m\u001b[38;5;124;43m'\u001b[39;49m\u001b[38;5;124;43mRetrieved AOT Median\u001b[39;49m\u001b[38;5;124;43m'\u001b[39;49m\u001b[43m]\u001b[49m)\n",
      "\u001b[1;31mKeyError\u001b[0m: 'Retrieved AOT Median'"
     ]
    }
   ],
   "source": [
    "AOT_medians = []\n",
    "for i in range(746, len(coverage_file['features'])):\n",
    "    AOT_medians.append(((coverage_file['features'][i])['properties'])['Retrieved AOT Median'])"
   ]
  },
  {
   "cell_type": "code",
   "execution_count": 48,
   "id": "cb5d5a61-1cbd-41a9-9991-b76ca670f433",
   "metadata": {},
   "outputs": [
    {
     "data": {
      "text/plain": [
       "265"
      ]
     },
     "execution_count": 48,
     "metadata": {},
     "output_type": "execute_result"
    }
   ],
   "source": [
    "len(AOT_medians)"
   ]
  },
  {
   "cell_type": "code",
   "execution_count": 56,
   "id": "d209b2bc-fe5d-4818-b583-b04bb234e1c8",
   "metadata": {},
   "outputs": [],
   "source": [
    "AOT_medians = []\n",
    "keys_contained = []\n",
    "keys_not_contained = []\n",
    "for i in range(len(coverage_file['features'])):\n",
    "    if 'Retrieved AOT Median' in (coverage_file['features'][i])['properties']:\n",
    "        AOT_medians.append(((coverage_file['features'][i])['properties'])['Retrieved AOT Median'])\n",
    "        keys_contained.append(i)\n",
    "    else:\n",
    "        keys_not_contained.append(i)"
   ]
  },
  {
   "cell_type": "code",
   "execution_count": 61,
   "id": "7bdb0505-686a-49ba-862f-7a217bce05ae",
   "metadata": {},
   "outputs": [
    {
     "name": "stdout",
     "output_type": "stream",
     "text": [
      "keys contained:  33035\n",
      "keys not contained:  175\n"
     ]
    }
   ],
   "source": [
    "print('keys contained: ', len(keys_contained))\n",
    "print('keys not contained: ', len(keys_not_contained))"
   ]
  },
  {
   "cell_type": "code",
   "execution_count": null,
   "id": "c69ac386-36f2-49b3-a25d-8fc681b6d479",
   "metadata": {},
   "outputs": [],
   "source": []
  }
 ],
 "metadata": {
  "kernelspec": {
   "display_name": "Python 3 (ipykernel)",
   "language": "python",
   "name": "python3"
  },
  "language_info": {
   "codemirror_mode": {
    "name": "ipython",
    "version": 3
   },
   "file_extension": ".py",
   "mimetype": "text/x-python",
   "name": "python",
   "nbconvert_exporter": "python",
   "pygments_lexer": "ipython3",
   "version": "3.10.12"
  }
 },
 "nbformat": 4,
 "nbformat_minor": 5
}
