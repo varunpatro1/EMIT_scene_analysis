{
 "cells": [
  {
   "cell_type": "code",
   "execution_count": 1,
   "id": "25c3d20b-6c35-46c4-a906-13b89c9f5964",
   "metadata": {},
   "outputs": [],
   "source": [
    "import numpy as np\n",
    "import pandas as pd\n",
    "import pickle\n",
    "import lhs\n",
    "import spatial_plot"
   ]
  },
  {
   "cell_type": "code",
   "execution_count": null,
   "id": "53e31cd2-7ae1-49b9-af9d-e2144e829fa5",
   "metadata": {},
   "outputs": [],
   "source": [
    "num_samples = [1, 2, 3, 4, 5]\n",
    "num_bins = [6, 7, 8, 9, 10, 11, 12, 13, 14, 15, 16, 17, 18, 19, 20, 21]\n",
    "\n",
    "for bin in num_bins:\n",
    "    for sample in num_samples:\n",
    "        \n",
    "    "
   ]
  }
 ],
 "metadata": {
  "kernelspec": {
   "display_name": "Python 3 (ipykernel)",
   "language": "python",
   "name": "python3"
  },
  "language_info": {
   "codemirror_mode": {
    "name": "ipython",
    "version": 3
   },
   "file_extension": ".py",
   "mimetype": "text/x-python",
   "name": "python",
   "nbconvert_exporter": "python",
   "pygments_lexer": "ipython3",
   "version": "3.9.17"
  }
 },
 "nbformat": 4,
 "nbformat_minor": 5
}
