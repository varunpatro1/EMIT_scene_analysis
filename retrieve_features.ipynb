{
 "cells": [
  {
   "cell_type": "code",
   "execution_count": 53,
   "id": "f9df04ef-4d92-44a3-94b3-b97fb635cff9",
   "metadata": {},
   "outputs": [],
   "source": [
    "import numpy as np\n",
    "import json\n",
    "import pandas as pd\n",
    "import matplotlib.pyplot as plt\n",
    "import fid_decomp"
   ]
  },
  {
   "cell_type": "code",
   "execution_count": 54,
   "id": "45ac4e00-4937-403f-ab4f-76493883add9",
   "metadata": {},
   "outputs": [
    {
     "name": "stdout",
     "output_type": "stream",
     "text": [
      "dict_keys(['crs', 'features', 'name', 'type'])\n",
      "2\n",
      "34001\n",
      "11\n",
      "17\n"
     ]
    }
   ],
   "source": [
    "with open('../track_coverage.json') as user_file:\n",
    "  coverage_file = json.load(user_file)\n",
    "print(coverage_file.keys())\n",
    "print(len(coverage_file['crs']))\n",
    "print(len(coverage_file['features']))\n",
    "print(len(coverage_file['name']))\n",
    "print(len(coverage_file['type']))\n",
    "num_scenes = len(coverage_file['features'])"
   ]
  },
  {
   "cell_type": "markdown",
   "id": "688b4dfa-c8d3-404f-b103-b3b09adcdc83",
   "metadata": {},
   "source": [
    "count_wv_range = 0\n",
    "count_wv_med = 0\n",
    "count_elev_med = 0\n",
    "count_slope = 0\n",
    "count_zen = 0\n",
    "\n",
    "for i in range(num_scenes):\n",
    "    if 'Retrieved WV 2' in (coverage_file['features'][i])['properties'] and 'Retrieved WV 98' in (coverage_file['features'][i])['properties']:\n",
    "        pass\n",
    "    else:\n",
    "        count_wv_range += 1\n",
    "    if 'Retrieved Ele. Median' in (coverage_file['features'][i])['properties']:\n",
    "        pass\n",
    "    else:\n",
    "        count_elev_med += 1\n",
    "    if 'Retrieved WV Median' in (coverage_file['features'][i])['properties']:\n",
    "        pass\n",
    "    else:\n",
    "        count_wv_med += 1\n",
    "    if 'Slope (local surface slope as derived from DEM in degrees)' in (coverage_file['features'][i])['properties']:\n",
    "        pass\n",
    "    else:\n",
    "        count_slope += 1\n",
    "    if 'To-sun zenith (0 to 90 degrees from zenith)' in (coverage_file['features'][i])['properties']:\n",
    "        pass\n",
    "    else:\n",
    "        count_zen += 1\n",
    "\n",
    "print('WV range', count_wv_range)\n",
    "print('WV med', count_wv_med)\n",
    "print('Elev med', count_elev_med)\n",
    "print('Slope', count_slope)\n",
    "print('Zen', count_zen)"
   ]
  },
  {
   "cell_type": "code",
   "execution_count": 55,
   "id": "ef69f12f-079b-42da-8a1f-b7b65df38692",
   "metadata": {},
   "outputs": [
    {
     "name": "stdout",
     "output_type": "stream",
     "text": [
      "<class 'list'>\n",
      "<class 'list'>\n",
      "<class 'list'>\n",
      "<class 'list'>\n",
      "<class 'list'>\n",
      "<class 'list'>\n",
      "<class 'list'>\n",
      "<class 'list'>\n"
     ]
    }
   ],
   "source": [
    "WV_range = []\n",
    "no_range = []\n",
    "\n",
    "WV_med = []\n",
    "no_wv_med = []\n",
    "\n",
    "elev = []\n",
    "no_elev = []\n",
    "\n",
    "slope = []\n",
    "\n",
    "zen = []\n",
    "\n",
    "lat = []\n",
    "lon = []\n",
    "\n",
    "fid = []\n",
    "\n",
    "for i in range(len(coverage_file['features'])):\n",
    "\n",
    "    if 'Retrieved WV 2' in (coverage_file['features'][i])['properties'] and 'Retrieved WV 98' in (coverage_file['features'][i])['properties']:\n",
    "        WV_range.append((((coverage_file['features'][i])['properties'])['Retrieved WV 98']) - (((coverage_file['features'][i])['properties'])['Retrieved WV 2']))\n",
    "        elev.append(((coverage_file['features'][i])['properties'])['Retrieved Ele. Median'])\n",
    "        WV_med.append(((coverage_file['features'][i])['properties'])['Retrieved WV Median'])\n",
    "        slope.append(((coverage_file['features'][i])['properties'])['Slope (local surface slope as derived from DEM in degrees)'])\n",
    "        zen.append(((coverage_file['features'][i])['properties'])['To-sun zenith (0 to 90 degrees from zenith)'])\n",
    "\n",
    "\n",
    "        lat_average = (((coverage_file['features'])[i]['geometry']['coordinates'][0][0][0]) + \\\n",
    "            ((coverage_file['features'])[i]['geometry']['coordinates'][0][1][0]))/2\n",
    "        lon_average = (((coverage_file['features'])[i]['geometry']['coordinates'][0][0][1]) + \\\n",
    "            ((coverage_file['features'])[i]['geometry']['coordinates'][0][1][1]))/2\n",
    "        lat.append(lat_average)\n",
    "        lon.append(lon_average)\n",
    "        fid.append(((coverage_file['features'][i])['properties'])['fid'])\n",
    "    else:\n",
    "        no_range.append(i)\n",
    "        no_wv_med.append(i)\n",
    "        no_elev.append(i)\n",
    "\n",
    "print(type(WV_range))\n",
    "print(type(elev))\n",
    "print(type(WV_med))\n",
    "print(type(slope))\n",
    "print(type(zen))\n",
    "print(type(lat))\n",
    "print(type(lon))\n",
    "print(type(fid))"
   ]
  },
  {
   "cell_type": "code",
   "execution_count": 56,
   "id": "6c55d0ff-8092-41c5-9884-fd526986e260",
   "metadata": {},
   "outputs": [],
   "source": [
    "data_dict = {'elev med': elev, 'zen': zen, 'slope': slope, 'wv range': WV_range, 'wv med': WV_med, 'lat': lat, 'lon': lon}\n",
    "df = pd.DataFrame(data_dict)\n",
    "fid_col = fid\n",
    "date_col, time_col, orbit_col, scene_col = fid_decomp.decompose(fid_col)\n",
    "df['date'] = date_col\n",
    "df['time'] = time_col\n",
    "df['orbit'] = orbit_col\n",
    "df['scene'] = scene_col\n",
    "pd.to_numeric(df['date'])\n",
    "pd.to_numeric(df['time'])\n",
    "pd.to_numeric(df['orbit'])\n",
    "pd.to_numeric(df['scene'])\n",
    "df['fid'] = fid"
   ]
  },
  {
   "cell_type": "code",
   "execution_count": 57,
   "id": "9e34fefc-7fdf-414c-a0a9-207b8efe8475",
   "metadata": {},
   "outputs": [
    {
     "name": "stdout",
     "output_type": "stream",
     "text": [
      "(33820, 12)\n"
     ]
    },
    {
     "data": {
      "text/html": [
       "<div>\n",
       "<style scoped>\n",
       "    .dataframe tbody tr th:only-of-type {\n",
       "        vertical-align: middle;\n",
       "    }\n",
       "\n",
       "    .dataframe tbody tr th {\n",
       "        vertical-align: top;\n",
       "    }\n",
       "\n",
       "    .dataframe thead th {\n",
       "        text-align: right;\n",
       "    }\n",
       "</style>\n",
       "<table border=\"1\" class=\"dataframe\">\n",
       "  <thead>\n",
       "    <tr style=\"text-align: right;\">\n",
       "      <th></th>\n",
       "      <th>elev med</th>\n",
       "      <th>zen</th>\n",
       "      <th>slope</th>\n",
       "      <th>wv range</th>\n",
       "      <th>wv med</th>\n",
       "      <th>lat</th>\n",
       "      <th>lon</th>\n",
       "      <th>date</th>\n",
       "      <th>time</th>\n",
       "      <th>orbit</th>\n",
       "      <th>scene</th>\n",
       "      <th>fid</th>\n",
       "    </tr>\n",
       "  </thead>\n",
       "  <tbody>\n",
       "    <tr>\n",
       "      <th>0</th>\n",
       "      <td>3.17</td>\n",
       "      <td>49.77</td>\n",
       "      <td>9.00</td>\n",
       "      <td>2.69</td>\n",
       "      <td>0.24</td>\n",
       "      <td>73.462646</td>\n",
       "      <td>21.543773</td>\n",
       "      <td>20220810</td>\n",
       "      <td>034103</td>\n",
       "      <td>22203</td>\n",
       "      <td>000</td>\n",
       "      <td>emit20220810t034103_o22203_s000</td>\n",
       "    </tr>\n",
       "    <tr>\n",
       "      <th>1</th>\n",
       "      <td>2.75</td>\n",
       "      <td>49.24</td>\n",
       "      <td>3.77</td>\n",
       "      <td>0.16</td>\n",
       "      <td>0.09</td>\n",
       "      <td>73.963529</td>\n",
       "      <td>22.116728</td>\n",
       "      <td>20220810</td>\n",
       "      <td>034115</td>\n",
       "      <td>22203</td>\n",
       "      <td>000</td>\n",
       "      <td>emit20220810t034115_o22203_s000</td>\n",
       "    </tr>\n",
       "    <tr>\n",
       "      <th>2</th>\n",
       "      <td>2.52</td>\n",
       "      <td>48.71</td>\n",
       "      <td>4.14</td>\n",
       "      <td>0.30</td>\n",
       "      <td>0.12</td>\n",
       "      <td>74.468918</td>\n",
       "      <td>22.687622</td>\n",
       "      <td>20220810</td>\n",
       "      <td>034127</td>\n",
       "      <td>22203</td>\n",
       "      <td>000</td>\n",
       "      <td>emit20220810t034127_o22203_s000</td>\n",
       "    </tr>\n",
       "    <tr>\n",
       "      <th>3</th>\n",
       "      <td>2.55</td>\n",
       "      <td>48.19</td>\n",
       "      <td>1.84</td>\n",
       "      <td>4.10</td>\n",
       "      <td>0.08</td>\n",
       "      <td>74.978765</td>\n",
       "      <td>23.256703</td>\n",
       "      <td>20220810</td>\n",
       "      <td>034139</td>\n",
       "      <td>22203</td>\n",
       "      <td>000</td>\n",
       "      <td>emit20220810t034139_o22203_s000</td>\n",
       "    </tr>\n",
       "    <tr>\n",
       "      <th>4</th>\n",
       "      <td>0.96</td>\n",
       "      <td>47.68</td>\n",
       "      <td>2.41</td>\n",
       "      <td>4.99</td>\n",
       "      <td>3.88</td>\n",
       "      <td>75.493399</td>\n",
       "      <td>23.823590</td>\n",
       "      <td>20220810</td>\n",
       "      <td>034151</td>\n",
       "      <td>22203</td>\n",
       "      <td>000</td>\n",
       "      <td>emit20220810t034151_o22203_s000</td>\n",
       "    </tr>\n",
       "  </tbody>\n",
       "</table>\n",
       "</div>"
      ],
      "text/plain": [
       "   elev med    zen  slope  wv range  wv med        lat        lon      date  \\\n",
       "0      3.17  49.77   9.00      2.69    0.24  73.462646  21.543773  20220810   \n",
       "1      2.75  49.24   3.77      0.16    0.09  73.963529  22.116728  20220810   \n",
       "2      2.52  48.71   4.14      0.30    0.12  74.468918  22.687622  20220810   \n",
       "3      2.55  48.19   1.84      4.10    0.08  74.978765  23.256703  20220810   \n",
       "4      0.96  47.68   2.41      4.99    3.88  75.493399  23.823590  20220810   \n",
       "\n",
       "     time  orbit scene                              fid  \n",
       "0  034103  22203   000  emit20220810t034103_o22203_s000  \n",
       "1  034115  22203   000  emit20220810t034115_o22203_s000  \n",
       "2  034127  22203   000  emit20220810t034127_o22203_s000  \n",
       "3  034139  22203   000  emit20220810t034139_o22203_s000  \n",
       "4  034151  22203   000  emit20220810t034151_o22203_s000  "
      ]
     },
     "execution_count": 57,
     "metadata": {},
     "output_type": "execute_result"
    }
   ],
   "source": [
    "print(df.shape)\n",
    "df.head()"
   ]
  },
  {
   "cell_type": "code",
   "execution_count": 58,
   "id": "43f6fd8b-6d0a-4f3d-84cb-ef59c4c3baea",
   "metadata": {},
   "outputs": [],
   "source": [
    "import pickle\n",
    "df.to_pickle('../emit_data')"
   ]
  },
  {
   "cell_type": "code",
   "execution_count": 32,
   "id": "a67ba7f1-e3e6-4401-9496-c1bff1f4534c",
   "metadata": {},
   "outputs": [
    {
     "name": "stdout",
     "output_type": "stream",
     "text": [
      "[0.    0.675 1.35  2.025 2.7   3.375 4.05  4.725 5.4  ]\n",
      "[24983.  3308.  1857.  1575.   869.   334.   627.   267.]\n"
     ]
    },
    {
     "data": {
      "text/plain": [
       "Text(0.5, 0, 'Elevation (km)')"
      ]
     },
     "execution_count": 32,
     "metadata": {},
     "output_type": "execute_result"
    },
    {
     "data": {
      "image/png": "[encoded data removed]",
      "text/plain": [
       "<Figure size 640x480 with 1 Axes>"
      ]
     },
     "metadata": {},
     "output_type": "display_data"
    }
   ],
   "source": [
    "n, bins, patches = plt.hist(elev, bins = 8)\n",
    "print(bins)\n",
    "print(n)\n",
    "plt.title('Elevation Histogram of EMIT Data')\n",
    "plt.xlabel('Elevation (km)')"
   ]
  },
  {
   "cell_type": "code",
   "execution_count": 33,
   "id": "fc5aa910-4669-4fab-9d12-07bcbee6859d",
   "metadata": {},
   "outputs": [
    {
     "name": "stdout",
     "output_type": "stream",
     "text": [
      "[ 0.22     9.12875 18.0375  26.94625 35.855   44.76375 53.6725  62.58125\n",
      " 71.49   ]\n",
      "[ 976. 2736. 5050. 7263. 8612. 5049. 4057.   77.]\n"
     ]
    },
    {
     "data": {
      "text/plain": [
       "Text(0.5, 0, 'Zenith (deg)')"
      ]
     },
     "execution_count": 33,
     "metadata": {},
     "output_type": "execute_result"
    },
    {
     "data": {
      "image/png": "[encoded data removed]",
      "text/plain": [
       "<Figure size 640x480 with 1 Axes>"
      ]
     },
     "metadata": {},
     "output_type": "display_data"
    }
   ],
   "source": [
    "n, bins, patches = plt.hist(zen, bins = 8)\n",
    "print(bins)\n",
    "print(n)\n",
    "plt.title('Zenith Angle Histogram of EMIT Data')\n",
    "plt.xlabel('Zenith (deg)')"
   ]
  },
  {
   "cell_type": "code",
   "execution_count": 34,
   "id": "e3a06b11-ae96-4a6f-b9b8-64d8e23239dd",
   "metadata": {},
   "outputs": [
    {
     "name": "stdout",
     "output_type": "stream",
     "text": [
      "[ 0.      4.4275  8.855  13.2825 17.71   22.1375 26.565  30.9925 35.42  ]\n",
      "[23212.  6174.  2235.  1045.   519.   339.   247.    49.]\n"
     ]
    },
    {
     "data": {
      "text/plain": [
       "Text(0.5, 0, 'Slope')"
      ]
     },
     "execution_count": 34,
     "metadata": {},
     "output_type": "execute_result"
    },
    {
     "data": {
      "image/png": "[encoded data removed]",
      "text/plain": [
       "<Figure size 640x480 with 1 Axes>"
      ]
     },
     "metadata": {},
     "output_type": "display_data"
    }
   ],
   "source": [
    "n, bins, patches = plt.hist(slope, bins = 8)\n",
    "print(bins)\n",
    "print(n)\n",
    "plt.title('Slope Histogram of EMIT Data')\n",
    "plt.xlabel('Slope')"
   ]
  },
  {
   "cell_type": "code",
   "execution_count": 35,
   "id": "a3aa26ef-82e1-4534-b7e5-05db3db892f8",
   "metadata": {},
   "outputs": [
    {
     "name": "stdout",
     "output_type": "stream",
     "text": [
      "[0.      0.74375 1.4875  2.23125 2.975   3.71875 4.4625  5.20625 5.95   ]\n",
      "[17950.  7089.  3828.  2232.  1302.   791.   439.   189.]\n"
     ]
    },
    {
     "data": {
      "text/plain": [
       "Text(0.5, 0, 'WV Range (g/cm^2)')"
      ]
     },
     "execution_count": 35,
     "metadata": {},
     "output_type": "execute_result"
    },
    {
     "data": {
      "image/png": "[encoded data removed]",
      "text/plain": [
       "<Figure size 640x480 with 1 Axes>"
      ]
     },
     "metadata": {},
     "output_type": "display_data"
    }
   ],
   "source": [
    "n, bins, patches = plt.hist(WV_range, bins = 8)\n",
    "print(bins)\n",
    "print(n)\n",
    "plt.title('WV Range Histogram of EMIT Data')\n",
    "plt.xlabel('WV Range (g/cm^2)')"
   ]
  },
  {
   "cell_type": "code",
   "execution_count": 36,
   "id": "e7666869-43e3-4afb-8cec-710a7ef771f5",
   "metadata": {},
   "outputs": [
    {
     "name": "stdout",
     "output_type": "stream",
     "text": [
      "[0.05    0.79375 1.5375  2.28125 3.025   3.76875 4.5125  5.25625 6.     ]\n",
      "[ 9546. 11103.  6623.  3290.  1659.   881.   383.   335.]\n"
     ]
    },
    {
     "data": {
      "text/plain": [
       "Text(0.5, 0, 'WV Median (g/cm^2)')"
      ]
     },
     "execution_count": 36,
     "metadata": {},
     "output_type": "execute_result"
    },
    {
     "data": {
      "image/png": "[encoded data removed]",
      "text/plain": [
       "<Figure size 640x480 with 1 Axes>"
      ]
     },
     "metadata": {},
     "output_type": "display_data"
    }
   ],
   "source": [
    "n, bins, patches = plt.hist(WV_med, bins = 8)\n",
    "print(bins)\n",
    "print(n)\n",
    "plt.title('WV Median Histogram of EMIT Data')\n",
    "plt.xlabel('WV Median (g/cm^2)')"
   ]
  },
  {
   "cell_type": "code",
   "execution_count": 46,
   "id": "26b4ebc7-d4c6-47d4-a4ed-70ecbd5efdbd",
   "metadata": {},
   "outputs": [],
   "source": [
    "np.random.seed(13)\n",
    "\n",
    "wv = np.random.rand(10000) * 5\n",
    "e = np.random.rand(10000) * 6\n",
    "sza = np.random.rand(10000) * 60\n",
    "\n",
    "\n",
    "bins = 10\n",
    "wv_range = np.linspace(np.min(wv),np.max(wv), bins)\n",
    "e_range = np.linspace(np.min(e),np.max(e), bins)\n",
    "sza_range = np.linspace(np.min(sza),np.max(sza), bins)"
   ]
  },
  {
   "cell_type": "code",
   "execution_count": 47,
   "id": "4bdda88e-765a-4bdd-9f2d-eb0b99ac7401",
   "metadata": {},
   "outputs": [
    {
     "data": {
      "text/plain": [
       "(array([8.43981720e-06, 5.55552035e-01, 1.11109563e+00, 1.66663923e+00,\n",
       "        2.22218282e+00, 2.77772642e+00, 3.33327001e+00, 3.88881361e+00,\n",
       "        4.44435720e+00, 4.99990080e+00]),\n",
       " array([2.46376478e-04, 6.66765380e-01, 1.33328438e+00, 1.99980339e+00,\n",
       "        2.66632239e+00, 3.33284140e+00, 3.99936040e+00, 4.66587940e+00,\n",
       "        5.33239841e+00, 5.99891741e+00]),\n",
       " array([2.23224854e-03, 6.66832968e+00, 1.33344271e+01, 2.00005245e+01,\n",
       "        2.66666220e+01, 3.33327194e+01, 3.99988168e+01, 4.66649143e+01,\n",
       "        5.33310117e+01, 5.99971091e+01]))"
      ]
     },
     "execution_count": 47,
     "metadata": {},
     "output_type": "execute_result"
    }
   ],
   "source": [
    "wv_range, e_range, sza_range"
   ]
  },
  {
   "cell_type": "code",
   "execution_count": null,
   "id": "e57002c4-5fa6-409d-9e30-131628212782",
   "metadata": {},
   "outputs": [],
   "source": []
  }
 ],
 "metadata": {
  "kernelspec": {
   "display_name": "Python 3 (ipykernel)",
   "language": "python",
   "name": "python3"
  },
  "language_info": {
   "codemirror_mode": {
    "name": "ipython",
    "version": 3
   },
   "file_extension": ".py",
   "mimetype": "text/x-python",
   "name": "python",
   "nbconvert_exporter": "python",
   "pygments_lexer": "ipython3",
   "version": "3.9.17"
  }
 },
 "nbformat": 4,
 "nbformat_minor": 5
}
