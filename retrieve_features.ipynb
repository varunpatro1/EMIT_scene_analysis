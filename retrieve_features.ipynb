{
 "cells": [
  {
   "cell_type": "code",
   "execution_count": 13,
   "id": "f9df04ef-4d92-44a3-94b3-b97fb635cff9",
   "metadata": {},
   "outputs": [],
   "source": [
    "import numpy as np\n",
    "import json\n",
    "import pandas as pd"
   ]
  },
  {
   "cell_type": "code",
   "execution_count": 5,
   "id": "45ac4e00-4937-403f-ab4f-76493883add9",
   "metadata": {},
   "outputs": [
    {
     "name": "stdout",
     "output_type": "stream",
     "text": [
      "dict_keys(['crs', 'features', 'name', 'type'])\n",
      "2\n",
      "34001\n",
      "11\n",
      "17\n"
     ]
    }
   ],
   "source": [
    "with open('../track_coverage.json') as user_file:\n",
    "  coverage_file = json.load(user_file)\n",
    "print(coverage_file.keys())\n",
    "print(len(coverage_file['crs']))\n",
    "print(len(coverage_file['features']))\n",
    "print(len(coverage_file['name']))\n",
    "print(len(coverage_file['type']))\n",
    "num_scenes = len(coverage_file['features'])"
   ]
  },
  {
   "cell_type": "code",
   "execution_count": 11,
   "id": "54dede46-f770-45a8-b6ac-46712ed70513",
   "metadata": {},
   "outputs": [
    {
     "name": "stdout",
     "output_type": "stream",
     "text": [
      "WV range 181\n",
      "WV med 181\n",
      "Elev med 181\n",
      "Slope 0\n",
      "Zen 0\n"
     ]
    }
   ],
   "source": [
    "count_wv_range = 0\n",
    "count_wv_med = 0\n",
    "count_elev_med = 0\n",
    "count_slope = 0\n",
    "count_zen = 0\n",
    "\n",
    "for i in range(num_scenes):\n",
    "    if 'Retrieved WV 2' in (coverage_file['features'][i])['properties'] and 'Retrieved WV 98' in (coverage_file['features'][i])['properties']:\n",
    "        pass\n",
    "    else:\n",
    "        count_wv_range += 1\n",
    "    if 'Retrieved Ele. Median' in (coverage_file['features'][i])['properties']:\n",
    "        pass\n",
    "    else:\n",
    "        count_elev_med += 1\n",
    "    if 'Retrieved WV Median' in (coverage_file['features'][i])['properties']:\n",
    "        pass\n",
    "    else:\n",
    "        count_wv_med += 1\n",
    "    if 'Slope (local surface slope as derived from DEM in degrees)' in (coverage_file['features'][i])['properties']:\n",
    "        pass\n",
    "    else:\n",
    "        count_slope += 1\n",
    "    if 'To-sun zenith (0 to 90 degrees from zenith)' in (coverage_file['features'][i])['properties']:\n",
    "        pass\n",
    "    else:\n",
    "        count_zen += 1\n",
    "\n",
    "print('WV range', count_wv_range)\n",
    "print('WV med', count_wv_med)\n",
    "print('Elev med', count_elev_med)\n",
    "print('Slope', count_slope)\n",
    "print('Zen', count_zen)"
   ]
  },
  {
   "cell_type": "code",
   "execution_count": 12,
   "id": "ef69f12f-079b-42da-8a1f-b7b65df38692",
   "metadata": {},
   "outputs": [
    {
     "name": "stdout",
     "output_type": "stream",
     "text": [
      "33820\n",
      "33820\n",
      "33820\n",
      "33820\n",
      "33820\n",
      "181\n"
     ]
    }
   ],
   "source": [
    "WV_range = []\n",
    "no_range = []\n",
    "\n",
    "WV_med = []\n",
    "no_wv_med = []\n",
    "\n",
    "elev = []\n",
    "no_elev = []\n",
    "\n",
    "slope = []\n",
    "\n",
    "zen = []\n",
    "\n",
    "lat = []\n",
    "lon = []\n",
    "\n",
    "fid = []\n",
    "\n",
    "for i in range(len(coverage_file['features'])):\n",
    "\n",
    "    if 'Retrieved WV 2' in (coverage_file['features'][i])['properties'] and 'Retrieved WV 98' in (coverage_file['features'][i])['properties']:\n",
    "        WV_range.append((((coverage_file['features'][i])['properties'])['Retrieved WV 98']) - (((coverage_file['features'][i])['properties'])['Retrieved WV 2']))\n",
    "        elev.append(((coverage_file['features'][i])['properties'])['Retrieved Ele. Median'])\n",
    "        WV_med.append(((coverage_file['features'][i])['properties'])['Retrieved WV Median'])\n",
    "        slope.append(((coverage_file['features'][i])['properties'])['Slope (local surface slope as derived from DEM in degrees)'])\n",
    "        zen.append(((coverage_file['features'][i])['properties'])['To-sun zenith (0 to 90 degrees from zenith)'])\n",
    "\n",
    "\n",
    "        lat_average = (((coverage_file['features'])[i]['geometry']['coordinates'][0][0][0]) + \\\n",
    "            ((coverage_file['features'])[i]['geometry']['coordinates'][0][1][0]))/2\n",
    "        lon_average = (((coverage_file['features'])[i]['geometry']['coordinates'][0][0][1]) + \\\n",
    "            ((coverage_file['features'])[i]['geometry']['coordinates'][0][1][1]))/2\n",
    "        lat.append(lat_average)\n",
    "        lon.append(lon_average)\n",
    "        fid.append(fid)\n",
    "    else:\n",
    "        no_range.append(i)\n",
    "        no_wv_med.append(i)\n",
    "        no_elev.append(i)\n",
    "\n",
    "print(len(WV_range))\n",
    "print(len(elev))\n",
    "print(len(WV_med))\n",
    "print(len(slope))\n",
    "print(len(zen))\n",
    "print(len(no_range))"
   ]
  },
  {
   "cell_type": "code",
   "execution_count": 32,
   "id": "b9cb1846-22dd-4a83-b30a-efd65b34c50f",
   "metadata": {},
   "outputs": [],
   "source": [
    "df = pd.DataFrame()"
   ]
  },
  {
   "cell_type": "code",
   "execution_count": 33,
   "id": "fdd6d43d-ffc1-47a1-8f09-f24ff47fae63",
   "metadata": {},
   "outputs": [],
   "source": [
    "df['fid'] = fid\n",
    "df['elev med'] = elev\n",
    "df['zen'] = zen\n",
    "df['slope'] = slope\n",
    "df['wv range'] = WV_range\n",
    "df['wv med'] = WV_med"
   ]
  },
  {
   "cell_type": "code",
   "execution_count": 34,
   "id": "e9a85a30-dc62-461d-93fc-53727999c0ac",
   "metadata": {},
   "outputs": [
    {
     "data": {
      "text/plain": [
       "(33820, 6)"
      ]
     },
     "execution_count": 34,
     "metadata": {},
     "output_type": "execute_result"
    }
   ],
   "source": [
    "df.shape"
   ]
  },
  {
   "cell_type": "code",
   "execution_count": 37,
   "id": "43f6fd8b-6d0a-4f3d-84cb-ef59c4c3baea",
   "metadata": {},
   "outputs": [],
   "source": [
    "import pickle\n",
    "df.to_pickle('../emit_data')"
   ]
  },
  {
   "cell_type": "code",
   "execution_count": null,
   "id": "a67ba7f1-e3e6-4401-9496-c1bff1f4534c",
   "metadata": {},
   "outputs": [],
   "source": []
  }
 ],
 "metadata": {
  "kernelspec": {
   "display_name": "Python 3 (ipykernel)",
   "language": "python",
   "name": "python3"
  },
  "language_info": {
   "codemirror_mode": {
    "name": "ipython",
    "version": 3
   },
   "file_extension": ".py",
   "mimetype": "text/x-python",
   "name": "python",
   "nbconvert_exporter": "python",
   "pygments_lexer": "ipython3",
   "version": "3.9.17"
  }
 },
 "nbformat": 4,
 "nbformat_minor": 5
}
